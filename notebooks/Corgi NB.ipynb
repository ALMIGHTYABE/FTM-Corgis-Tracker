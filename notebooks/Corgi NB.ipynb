{
 "cells": [
  {
   "cell_type": "code",
   "execution_count": 32,
   "id": "411dde74",
   "metadata": {},
   "outputs": [],
   "source": [
    "import pandas as pd \n",
    "import requests"
   ]
  },
  {
   "cell_type": "code",
   "execution_count": 4,
   "id": "5295501c",
   "metadata": {},
   "outputs": [],
   "source": [
    "stats = \"https://api.paintswap.finance/v2/collections/0x250c1271bd7c99c6570529f1f2571d455e49793d\""
   ]
  },
  {
   "cell_type": "code",
   "execution_count": 5,
   "id": "861bdeef",
   "metadata": {},
   "outputs": [],
   "source": [
    "three = \"https://api.paintswap.finance/nft/0x250c1271bd7c99c6570529f1f2571d455e49793d/3?numToFetch=50&getUri=false\""
   ]
  },
  {
   "cell_type": "code",
   "execution_count": 39,
   "id": "eca07d8f",
   "metadata": {},
   "outputs": [],
   "source": [
    "ids = \"https://api.paintswap.finance/v2/metadata/0x250c1271bd7c99c6570529f1f2571d455e49793d/4\""
   ]
  },
  {
   "cell_type": "code",
   "execution_count": 40,
   "id": "78b09f4c",
   "metadata": {},
   "outputs": [],
   "source": [
    "r = requests.get(ids)"
   ]
  },
  {
   "cell_type": "code",
   "execution_count": 47,
   "id": "8c0b2900",
   "metadata": {},
   "outputs": [
    {
     "data": {
      "text/plain": [
       "{'id': '0x250c1271bd7c99c6570529f1f2571d455e49793d_87',\n",
       " 'address': '0x250c1271bd7c99c6570529f1f2571d455e49793d',\n",
       " 'tokenId': '87',\n",
       " 'createdBlockNumber': 44350929,\n",
       " 'chainId': 250,\n",
       " 'num': 0,\n",
       " 'hasMetadata': True,\n",
       " 'hasOptimizedImage': True,\n",
       " 'metadataAttempts': 0,\n",
       " 'optimizationAttempts': 0,\n",
       " 'created_at': 1659801065846,\n",
       " 'updated_at': 1659963159710,\n",
       " 'image': 'https://media-nft.paintswap.finance/250_0x250c1271bd7c99c6570529f1f2571d455e49793d_87.jpg',\n",
       " 'tokenURI': 'ipfs://bafyreihltta6kxdxzjiyoqiq2of5c6h7tkuujkau6j3i27cdijhhxrvhhi/metadata.json',\n",
       " 'manifestHash': '1182f71c553ee253c0e8b952d1725846',\n",
       " 'name': 'Bebis Corgi',\n",
       " 'description': 'Host of Corgi Unchained wielding a katana!',\n",
       " 'attributes': [{'average': '0.01205',\n",
       "   'count': 1,\n",
       "   'value': 'Tie Dye',\n",
       "   'trait_type': 'Shirt',\n",
       "   'frequency': 1.2048192771084338},\n",
       "  {'average': '0.01205',\n",
       "   'count': 1,\n",
       "   'value': 'Black',\n",
       "   'trait_type': 'Katana ',\n",
       "   'frequency': 1.2048192771084338},\n",
       "  {'average': '0.03614',\n",
       "   'count': 3,\n",
       "   'value': 'Blue',\n",
       "   'trait_type': 'Background',\n",
       "   'frequency': 3.614457831325301},\n",
       "  {'average': '0.15663',\n",
       "   'count': 13,\n",
       "   'value': '3',\n",
       "   'trait_type': 'Attributes Count',\n",
       "   'frequency': 15.66265060240964}],\n",
       " 'isBase64': False,\n",
       " 'origImage': 'ipfs://bafybeigiebkxwffk2hfmxz6qrotg65kvlydtv3seopolvxrlfwftvyq2ce/a8f02457-e7f9-4e6a-9eba-b8a420da09f6.jpeg',\n",
       " 'mimeType': 'image/jpeg',\n",
       " 'extra': '',\n",
       " 'thumbnail': 'https://media-nft.paintswap.finance/250_0x250c1271bd7c99c6570529f1f2571d455e49793d_87_thumb.jpg',\n",
       " 'metadataHash': '80677f626908c7da14d915f5ae1d63bc',\n",
       " 'snapshot': '',\n",
       " 'rarity': {'score': 1.9994873109459115,\n",
       "  'total': 83,\n",
       "  'rank': 9,\n",
       "  'calculated_at': 1659963159664},\n",
       " 'subgraphIndex': 0,\n",
       " 'approvalState': 'approve',\n",
       " 'contentVerified': True,\n",
       " 'isFNFT': False}"
      ]
     },
     "execution_count": 47,
     "metadata": {},
     "output_type": "execute_result"
    }
   ],
   "source": [
    "r.json()"
   ]
  },
  {
   "cell_type": "code",
   "execution_count": 33,
   "id": "9ae3e7d1",
   "metadata": {},
   "outputs": [],
   "source": [
    "address = \"https://api.paintswap.finance/nft/0x250c1271bd7c99c6570529f1f2571d455e49793d/3?numToFetch=50&getUri=false\""
   ]
  },
  {
   "cell_type": "code",
   "execution_count": 34,
   "id": "f80922da",
   "metadata": {},
   "outputs": [],
   "source": [
    "r = requests.get(address)"
   ]
  },
  {
   "cell_type": "code",
   "execution_count": 35,
   "id": "de0113de",
   "metadata": {},
   "outputs": [
    {
     "data": {
      "text/plain": [
       "'0xc169fd8055ad90a4e40b4106b570d0d59db6a2d8'"
      ]
     },
     "execution_count": 35,
     "metadata": {},
     "output_type": "execute_result"
    }
   ],
   "source": [
    "r.json()['nft']['owner']"
   ]
  },
  {
   "cell_type": "code",
   "execution_count": 9,
   "id": "c8e47852",
   "metadata": {},
   "outputs": [
    {
     "data": {
      "text/plain": [
       "range(3, 83)"
      ]
     },
     "execution_count": 9,
     "metadata": {},
     "output_type": "execute_result"
    }
   ],
   "source": [
    "range(3,83)"
   ]
  },
  {
   "cell_type": "code",
   "execution_count": 2,
   "id": "d022c096",
   "metadata": {},
   "outputs": [],
   "source": [
    "names = \"https://api.paintswap.finance/v2/metadata/0x250c1271bd7c99c6570529f1f2571d455e49793d/\""
   ]
  },
  {
   "cell_type": "code",
   "execution_count": 3,
   "id": "9c0275b4",
   "metadata": {},
   "outputs": [],
   "source": [
    "temp = []\n",
    "for i in range(3, 100):\n",
    "    r = requests.get(names + str(i))\n",
    "    if r.status_code == 200:\n",
    "        name = r.json()['name']\n",
    "        token = r.json()['tokenId']\n",
    "        temp.append({'name' : name, 'token' : token})"
   ]
  },
  {
   "cell_type": "code",
   "execution_count": 4,
   "id": "78ce69a1",
   "metadata": {},
   "outputs": [],
   "source": [
    "nft_df = pd.DataFrame(temp)"
   ]
  },
  {
   "cell_type": "code",
   "execution_count": 5,
   "id": "703297d9",
   "metadata": {},
   "outputs": [],
   "source": [
    "nft_df.to_csv(\"corgis.csv\", index=False)"
   ]
  },
  {
   "cell_type": "code",
   "execution_count": 23,
   "id": "58d7f3cd",
   "metadata": {},
   "outputs": [],
   "source": [
    "sheet_url = \"https://docs.google.com/spreadsheets/d/1KMbi6Ywf0tAzmhlBSlDQ4ygs9AOOFF4wVp7kk7OvxyU/edit#gid=495548921\""
   ]
  },
  {
   "cell_type": "code",
   "execution_count": 24,
   "id": "6f4de114",
   "metadata": {},
   "outputs": [],
   "source": [
    "url_1 = sheet_url.replace('/edit#gid=', '/export?format=csv&gid=')"
   ]
  },
  {
   "cell_type": "code",
   "execution_count": 26,
   "id": "3c266695",
   "metadata": {},
   "outputs": [],
   "source": [
    "df = pd.read_csv(url_1)"
   ]
  },
  {
   "cell_type": "code",
   "execution_count": 51,
   "id": "d875a8db",
   "metadata": {},
   "outputs": [],
   "source": [
    "address = \"https://api.paintswap.finance/nft/0x250c1271bd7c99c6570529f1f2571d455e49793d/3?numToFetch=50&getUri=false\""
   ]
  },
  {
   "cell_type": "code",
   "execution_count": 36,
   "id": "d1bdf28c",
   "metadata": {},
   "outputs": [],
   "source": [
    "temp = []\n",
    "for i in df['token']:\n",
    "    address = \"https://api.paintswap.finance/nft/0x250c1271bd7c99c6570529f1f2571d455e49793d/{}?numToFetch=50&getUri=false\".format(i)\n",
    "    r = requests.get(address)\n",
    "    temp.append(r.json()['nft']['owner'])\n",
    "\n",
    "df['address'] = temp"
   ]
  },
  {
   "cell_type": "code",
   "execution_count": 48,
   "id": "fa45778b",
   "metadata": {},
   "outputs": [],
   "source": [
    "temp = []\n",
    "for i in df['token']:\n",
    "    ids = \"https://api.paintswap.finance/v2/metadata/0x250c1271bd7c99c6570529f1f2571d455e49793d/\"\n",
    "    r = requests.get(ids + str(i))\n",
    "    temp.append(r.json()['thumbnail'])\n",
    "\n",
    "df['image'] = temp"
   ]
  },
  {
   "cell_type": "code",
   "execution_count": 49,
   "id": "6d046ce2",
   "metadata": {},
   "outputs": [
    {
     "data": {
      "text/plain": [
       "'https://media-nft.paintswap.finance/250_0x250c1271bd7c99c6570529f1f2571d455e49793d_3_thumb.jpg'"
      ]
     },
     "execution_count": 49,
     "metadata": {},
     "output_type": "execute_result"
    }
   ],
   "source": [
    "df['image'][0]"
   ]
  },
  {
   "cell_type": "code",
   "execution_count": 50,
   "id": "0ab90ef5",
   "metadata": {},
   "outputs": [
    {
     "data": {
      "text/html": [
       "<div>\n",
       "<style scoped>\n",
       "    .dataframe tbody tr th:only-of-type {\n",
       "        vertical-align: middle;\n",
       "    }\n",
       "\n",
       "    .dataframe tbody tr th {\n",
       "        vertical-align: top;\n",
       "    }\n",
       "\n",
       "    .dataframe thead th {\n",
       "        text-align: right;\n",
       "    }\n",
       "</style>\n",
       "<table border=\"1\" class=\"dataframe\">\n",
       "  <thead>\n",
       "    <tr style=\"text-align: right;\">\n",
       "      <th></th>\n",
       "      <th>name</th>\n",
       "      <th>token</th>\n",
       "      <th>type</th>\n",
       "      <th>address</th>\n",
       "      <th>image</th>\n",
       "    </tr>\n",
       "  </thead>\n",
       "  <tbody>\n",
       "    <tr>\n",
       "      <th>0</th>\n",
       "      <td>Dr. Andre Corgi</td>\n",
       "      <td>3</td>\n",
       "      <td>main</td>\n",
       "      <td>0xc169fd8055ad90a4e40b4106b570d0d59db6a2d8</td>\n",
       "      <td>https://media-nft.paintswap.finance/250_0x250c...</td>\n",
       "    </tr>\n",
       "    <tr>\n",
       "      <th>1</th>\n",
       "      <td>Corgi Nurse 1</td>\n",
       "      <td>4</td>\n",
       "      <td>side</td>\n",
       "      <td>0x44d19f3da0fcb4b4dd4baaad77ad35e962f6b921</td>\n",
       "      <td>https://media-nft.paintswap.finance/250_0x250c...</td>\n",
       "    </tr>\n",
       "    <tr>\n",
       "      <th>2</th>\n",
       "      <td>Corgi Nurse 2</td>\n",
       "      <td>5</td>\n",
       "      <td>side</td>\n",
       "      <td>0xe7ba7b45a862ebfbe4199393abfe94a8da1e62b2</td>\n",
       "      <td>https://media-nft.paintswap.finance/250_0x250c...</td>\n",
       "    </tr>\n",
       "    <tr>\n",
       "      <th>3</th>\n",
       "      <td>Corgi Nurse 3</td>\n",
       "      <td>6</td>\n",
       "      <td>side</td>\n",
       "      <td>0x6ffbb6c376d0cf590289671d652ae92213614828</td>\n",
       "      <td>https://media-nft.paintswap.finance/250_0x250c...</td>\n",
       "    </tr>\n",
       "    <tr>\n",
       "      <th>4</th>\n",
       "      <td>Corgi Nurse 4</td>\n",
       "      <td>7</td>\n",
       "      <td>side</td>\n",
       "      <td>0x0db19222f6f894be3fdda1dc89fb4bd97becfcf5</td>\n",
       "      <td>https://media-nft.paintswap.finance/250_0x250c...</td>\n",
       "    </tr>\n",
       "    <tr>\n",
       "      <th>...</th>\n",
       "      <td>...</td>\n",
       "      <td>...</td>\n",
       "      <td>...</td>\n",
       "      <td>...</td>\n",
       "      <td>...</td>\n",
       "    </tr>\n",
       "    <tr>\n",
       "      <th>76</th>\n",
       "      <td>CorgiVee</td>\n",
       "      <td>83</td>\n",
       "      <td>main</td>\n",
       "      <td>0xd473781816837c7cd2fadc34e66f09786d2e2694</td>\n",
       "      <td>https://media-nft.paintswap.finance/250_0x250c...</td>\n",
       "    </tr>\n",
       "    <tr>\n",
       "      <th>77</th>\n",
       "      <td>Interstellar Corgi</td>\n",
       "      <td>84</td>\n",
       "      <td>main</td>\n",
       "      <td>0xdc96dc73c2321400aee24761ce43f8c6ef33a10e</td>\n",
       "      <td>https://media-nft.paintswap.finance/250_0x250c...</td>\n",
       "    </tr>\n",
       "    <tr>\n",
       "      <th>78</th>\n",
       "      <td>Austin Corgi</td>\n",
       "      <td>85</td>\n",
       "      <td>main</td>\n",
       "      <td>0xdc96dc73c2321400aee24761ce43f8c6ef33a10e</td>\n",
       "      <td>https://media-nft.paintswap.finance/250_0x250c...</td>\n",
       "    </tr>\n",
       "    <tr>\n",
       "      <th>79</th>\n",
       "      <td>24 Corgi$</td>\n",
       "      <td>86</td>\n",
       "      <td>main</td>\n",
       "      <td>0xc169fd8055ad90a4e40b4106b570d0d59db6a2d8</td>\n",
       "      <td>https://media-nft.paintswap.finance/250_0x250c...</td>\n",
       "    </tr>\n",
       "    <tr>\n",
       "      <th>80</th>\n",
       "      <td>Bebis Corgi</td>\n",
       "      <td>87</td>\n",
       "      <td>main</td>\n",
       "      <td>0xdc96dc73c2321400aee24761ce43f8c6ef33a10e</td>\n",
       "      <td>https://media-nft.paintswap.finance/250_0x250c...</td>\n",
       "    </tr>\n",
       "  </tbody>\n",
       "</table>\n",
       "<p>81 rows × 5 columns</p>\n",
       "</div>"
      ],
      "text/plain": [
       "                  name  token  type  \\\n",
       "0      Dr. Andre Corgi      3  main   \n",
       "1        Corgi Nurse 1      4  side   \n",
       "2        Corgi Nurse 2      5  side   \n",
       "3        Corgi Nurse 3      6  side   \n",
       "4        Corgi Nurse 4      7  side   \n",
       "..                 ...    ...   ...   \n",
       "76            CorgiVee     83  main   \n",
       "77  Interstellar Corgi     84  main   \n",
       "78        Austin Corgi     85  main   \n",
       "79           24 Corgi$     86  main   \n",
       "80         Bebis Corgi     87  main   \n",
       "\n",
       "                                       address  \\\n",
       "0   0xc169fd8055ad90a4e40b4106b570d0d59db6a2d8   \n",
       "1   0x44d19f3da0fcb4b4dd4baaad77ad35e962f6b921   \n",
       "2   0xe7ba7b45a862ebfbe4199393abfe94a8da1e62b2   \n",
       "3   0x6ffbb6c376d0cf590289671d652ae92213614828   \n",
       "4   0x0db19222f6f894be3fdda1dc89fb4bd97becfcf5   \n",
       "..                                         ...   \n",
       "76  0xd473781816837c7cd2fadc34e66f09786d2e2694   \n",
       "77  0xdc96dc73c2321400aee24761ce43f8c6ef33a10e   \n",
       "78  0xdc96dc73c2321400aee24761ce43f8c6ef33a10e   \n",
       "79  0xc169fd8055ad90a4e40b4106b570d0d59db6a2d8   \n",
       "80  0xdc96dc73c2321400aee24761ce43f8c6ef33a10e   \n",
       "\n",
       "                                                image  \n",
       "0   https://media-nft.paintswap.finance/250_0x250c...  \n",
       "1   https://media-nft.paintswap.finance/250_0x250c...  \n",
       "2   https://media-nft.paintswap.finance/250_0x250c...  \n",
       "3   https://media-nft.paintswap.finance/250_0x250c...  \n",
       "4   https://media-nft.paintswap.finance/250_0x250c...  \n",
       "..                                                ...  \n",
       "76  https://media-nft.paintswap.finance/250_0x250c...  \n",
       "77  https://media-nft.paintswap.finance/250_0x250c...  \n",
       "78  https://media-nft.paintswap.finance/250_0x250c...  \n",
       "79  https://media-nft.paintswap.finance/250_0x250c...  \n",
       "80  https://media-nft.paintswap.finance/250_0x250c...  \n",
       "\n",
       "[81 rows x 5 columns]"
      ]
     },
     "execution_count": 50,
     "metadata": {},
     "output_type": "execute_result"
    }
   ],
   "source": [
    "df"
   ]
  },
  {
   "cell_type": "code",
   "execution_count": 52,
   "id": "37955b49",
   "metadata": {},
   "outputs": [],
   "source": [
    "address = \"https://api.paintswap.finance/nft/0x250c1271bd7c99c6570529f1f2571d455e49793d/{}?numToFetch=50&getUri=false\""
   ]
  },
  {
   "cell_type": "code",
   "execution_count": 53,
   "id": "85af8620",
   "metadata": {},
   "outputs": [
    {
     "data": {
      "text/plain": [
       "'https://api.paintswap.finance/nft/0x250c1271bd7c99c6570529f1f2571d455e49793d/1?numToFetch=50&getUri=false'"
      ]
     },
     "execution_count": 53,
     "metadata": {},
     "output_type": "execute_result"
    }
   ],
   "source": [
    "address.format(1)"
   ]
  },
  {
   "cell_type": "code",
   "execution_count": null,
   "id": "02155a5d",
   "metadata": {},
   "outputs": [],
   "source": []
  }
 ],
 "metadata": {
  "kernelspec": {
   "display_name": "Python 3",
   "language": "python",
   "name": "python3"
  },
  "language_info": {
   "codemirror_mode": {
    "name": "ipython",
    "version": 3
   },
   "file_extension": ".py",
   "mimetype": "text/x-python",
   "name": "python",
   "nbconvert_exporter": "python",
   "pygments_lexer": "ipython3",
   "version": "3.8.10"
  }
 },
 "nbformat": 4,
 "nbformat_minor": 5
}
