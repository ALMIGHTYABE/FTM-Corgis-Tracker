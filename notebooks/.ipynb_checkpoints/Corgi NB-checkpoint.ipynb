{
 "cells": [
  {
   "cell_type": "code",
   "execution_count": 1,
   "id": "411dde74",
   "metadata": {},
   "outputs": [],
   "source": [
    "import pandas as pd \n",
    "import requests"
   ]
  },
  {
   "cell_type": "code",
   "execution_count": 4,
   "id": "5295501c",
   "metadata": {},
   "outputs": [],
   "source": [
    "stats = \"https://api.paintswap.finance/v2/collections/0x250c1271bd7c99c6570529f1f2571d455e49793d\""
   ]
  },
  {
   "cell_type": "code",
   "execution_count": 5,
   "id": "861bdeef",
   "metadata": {},
   "outputs": [],
   "source": [
    "three = \"https://api.paintswap.finance/nft/0x250c1271bd7c99c6570529f1f2571d455e49793d/3?numToFetch=50&getUri=false\""
   ]
  },
  {
   "cell_type": "code",
   "execution_count": 16,
   "id": "eca07d8f",
   "metadata": {},
   "outputs": [],
   "source": [
    "ids = \"https://api.paintswap.finance/v2/metadata/0x250c1271bd7c99c6570529f1f2571d455e49793d/4\""
   ]
  },
  {
   "cell_type": "code",
   "execution_count": 17,
   "id": "78b09f4c",
   "metadata": {},
   "outputs": [],
   "source": [
    "r = requests.get(ids)"
   ]
  },
  {
   "cell_type": "code",
   "execution_count": 19,
   "id": "8c0b2900",
   "metadata": {},
   "outputs": [
    {
     "data": {
      "text/plain": [
       "'Corgi Nurse 1'"
      ]
     },
     "execution_count": 19,
     "metadata": {},
     "output_type": "execute_result"
    }
   ],
   "source": [
    "r.json()['name']"
   ]
  },
  {
   "cell_type": "code",
   "execution_count": 12,
   "id": "9ae3e7d1",
   "metadata": {},
   "outputs": [],
   "source": [
    "address = \"https://api.paintswap.finance/nft/0x250c1271bd7c99c6570529f1f2571d455e49793d/3?numToFetch=50&getUri=false\""
   ]
  },
  {
   "cell_type": "code",
   "execution_count": 13,
   "id": "f80922da",
   "metadata": {},
   "outputs": [],
   "source": [
    "r = requests.get(address)"
   ]
  },
  {
   "cell_type": "code",
   "execution_count": 15,
   "id": "de0113de",
   "metadata": {},
   "outputs": [
    {
     "data": {
      "text/plain": [
       "{'address': '0x250c1271bd7c99c6570529f1f2571d455e49793d',\n",
       " 'collections': [],\n",
       " 'createdTimestamp': '1653350015',\n",
       " 'creator': '0xdc96dc73c2321400aee24761ce43f8c6ef33a10e',\n",
       " 'custom1': '0',\n",
       " 'custom2': '0',\n",
       " 'history': [{'action': 'Sold',\n",
       "   'actionId': '180414',\n",
       "   'data': '115000000000000000000',\n",
       "   'hash': '0xeb13d79b60fff3b70445f76d442b6bc3d16b7065d29b6bedfa789da5e3fe9417',\n",
       "   'id': '0x250c1271bd7c99c6570529f1f2571d455e49793d_3_1',\n",
       "   'numericId': '1',\n",
       "   'timestamp': '1653354717',\n",
       "   'version': 2},\n",
       "  {'action': 'ForSale',\n",
       "   'actionId': '180414',\n",
       "   'data': '115000000000000000000',\n",
       "   'hash': '0x7f438ac717f34dec18660d9639c47ec4e5b77d16f9365720c5305940cd2caec3',\n",
       "   'id': '0x250c1271bd7c99c6570529f1f2571d455e49793d_3_0',\n",
       "   'numericId': '0',\n",
       "   'timestamp': '1653350170',\n",
       "   'version': 2}],\n",
       " 'isERC721': False,\n",
       " 'isNSFW': False,\n",
       " 'isTracked': True,\n",
       " 'isTransferable': True,\n",
       " 'lastSellPrice': '115000000000000000000',\n",
       " 'mintOrder': '2',\n",
       " 'num': '1',\n",
       " 'onSale': True,\n",
       " 'owner': '0xc169fd8055ad90a4e40b4106b570d0d59db6a2d8',\n",
       " 'soldAmounts': ['1'],\n",
       " 'soldPrices': ['115000000000000000000'],\n",
       " 'soldTimestamps': ['1653354717'],\n",
       " 'tokenId': '3',\n",
       " 'subgraphIndex': 0,\n",
       " 'approvalState': 'approve',\n",
       " 'contentVerified': True,\n",
       " 'isFNFT': False,\n",
       " 'anyForSale': True}"
      ]
     },
     "execution_count": 15,
     "metadata": {},
     "output_type": "execute_result"
    }
   ],
   "source": [
    "r.json()['nft']"
   ]
  },
  {
   "cell_type": "code",
   "execution_count": 9,
   "id": "c8e47852",
   "metadata": {},
   "outputs": [
    {
     "data": {
      "text/plain": [
       "range(3, 83)"
      ]
     },
     "execution_count": 9,
     "metadata": {},
     "output_type": "execute_result"
    }
   ],
   "source": [
    "range(3,83)"
   ]
  },
  {
   "cell_type": "code",
   "execution_count": 2,
   "id": "d022c096",
   "metadata": {},
   "outputs": [],
   "source": [
    "names = \"https://api.paintswap.finance/v2/metadata/0x250c1271bd7c99c6570529f1f2571d455e49793d/\""
   ]
  },
  {
   "cell_type": "code",
   "execution_count": null,
   "id": "9c0275b4",
   "metadata": {},
   "outputs": [],
   "source": [
    "temp = []\n",
    "for i in range(3, 100):\n",
    "    r = requests.get(names + str(i))\n",
    "    if r.status_code == 200:\n",
    "        name = r.json()['name']\n",
    "        token = r.json()['tokenId']\n",
    "        temp.append({'name' : name, 'token' : token})"
   ]
  },
  {
   "cell_type": "code",
   "execution_count": null,
   "id": "78ce69a1",
   "metadata": {},
   "outputs": [],
   "source": [
    "nft_df = pd.DataFrame(temp)"
   ]
  },
  {
   "cell_type": "code",
   "execution_count": null,
   "id": "703297d9",
   "metadata": {},
   "outputs": [],
   "source": [
    "nft_df.to_csv(\"corgis.csv\", index=False)"
   ]
  },
  {
   "cell_type": "code",
   "execution_count": null,
   "id": "58d7f3cd",
   "metadata": {},
   "outputs": [],
   "source": []
  }
 ],
 "metadata": {
  "kernelspec": {
   "display_name": "Python 3",
   "language": "python",
   "name": "python3"
  },
  "language_info": {
   "codemirror_mode": {
    "name": "ipython",
    "version": 3
   },
   "file_extension": ".py",
   "mimetype": "text/x-python",
   "name": "python",
   "nbconvert_exporter": "python",
   "pygments_lexer": "ipython3",
   "version": "3.8.10"
  }
 },
 "nbformat": 4,
 "nbformat_minor": 5
}
